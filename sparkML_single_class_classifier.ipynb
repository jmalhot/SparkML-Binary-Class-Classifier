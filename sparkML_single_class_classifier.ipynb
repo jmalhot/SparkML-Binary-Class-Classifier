{
 "cells": [
  {
   "cell_type": "markdown",
   "metadata": {},
   "source": [
    "    \n",
    "<b><p><font size=\"5\">Spark ML Framework to build a classifier to predict Ad install probablity</b></p>\n"
   ]
  },
  {
   "cell_type": "markdown",
   "metadata": {},
   "source": [
    "<b> <font size=\"4\"> Setting Python Virtual Enviornment"
   ]
  },
  {
   "cell_type": "code",
   "execution_count": 1,
   "metadata": {},
   "outputs": [],
   "source": [
    "!python3 -m venv virtual_env\n",
    "!source virtual_env/bin/activate"
   ]
  },
  {
   "cell_type": "markdown",
   "metadata": {},
   "source": [
    "<b><font size=\"5\"><p>APACHE SPARK</p></b>\n",
    "    \n",
    "<font size=\"3\"><b>\n",
    "<p>Using  (pyspark) to load training data because in real time production environment, the gaming\n",
    "industry is expected to have TERABYTES of user behavioural so it make sense to load the data using Spark due to following reasons:\n",
    "<p>\n",
    "   <p> 1) In-memory computation <p>\n",
    "    <p>2) Parallel processing<p>\n",
    "\n",
    "</b>"
   ]
  },
  {
   "cell_type": "markdown",
   "metadata": {},
   "source": [
    "<b>Importing pyspark libraries, constant module and enable logging"
   ]
  },
  {
   "cell_type": "code",
   "execution_count": 2,
   "metadata": {},
   "outputs": [],
   "source": [
    "from collections import defaultdict\n",
    "from pyspark.sql import SparkSession\n",
    "from pyspark import SparkConf,SparkContext\n",
    "from pyspark.sql import SQLContext,functions as F\n",
    "from pyspark.sql.types import *\n",
    "import logging\n",
    "import seaborn as sns\n",
    "import pandas as pd\n",
    "pd.set_option('display.max_rows', 500)\n",
    "pd.set_option('display.max_columns', 500)\n",
    "pd.set_option('display.width', 1000)"
   ]
  },
  {
   "cell_type": "markdown",
   "metadata": {},
   "source": [
    "<b> Define Constants fo Spark Session"
   ]
  },
  {
   "cell_type": "code",
   "execution_count": 5,
   "metadata": {},
   "outputs": [],
   "source": [
    "P_APP_NAME=\"SPARK_ML_CLASSIFIER\"\n",
    "P_MASTER=\"local[2]\"\n",
    "P_DRIVER_MEMORY=\"10g\"\n",
    "P_EXECUTOR_MEMORY=\"5g\"\n",
    "P_EXECUTOR_CORES=2\n",
    "P_EXECUTOR_INSTANCE=1\n",
    "P_PIVOT_MAX_VALUES=100000\n",
    "P_EXECUTOR_HEARTBEATS=\"7200s\"\n",
    "P_BROADCAST_TIMEOUT=36000\n"
   ]
  },
  {
   "cell_type": "code",
   "execution_count": 6,
   "metadata": {},
   "outputs": [],
   "source": [
    "def set_spark_session():\n",
    "    \n",
    "    try:\n",
    "        \n",
    "        my_spark = SparkSession \\\n",
    "              .builder \\\n",
    "             .appName(P_APP_NAME) \\\n",
    "             .config('spark.driver.memory', P_DRIVER_MEMORY) \\\n",
    "             .config('spark.executor.memory', P_EXECUTOR_MEMORY) \\\n",
    "             .config('spark.executor.instances', P_EXECUTOR_INSTANCE) \\\n",
    "             .config(\"spark.executor.cores\",P_EXECUTOR_CORES) \\\n",
    "             .config(\"spark.sql.pivotMaxValues\", P_PIVOT_MAX_VALUES) \\\n",
    "             .config(\"spark.sql.inMemoryColumnarStorage.compressed\",True) \\\n",
    "             .config(\"spark.sql.broadcastTimeout\",P_BROADCAST_TIMEOUT) \\\n",
    "             .getOrCreate()\n",
    "        \n",
    "    except Exception as e:\n",
    "        logging.exception(\"EXCEPTION -  Setting SparkSession\"+str(e))\n",
    "        raise e    \n",
    "\n",
    "    \n",
    "    \n",
    "    # Set SQL Context\n",
    "    sqlContext=SQLContext(my_spark)\n",
    "    \n",
    "\n",
    "    return sqlContext,my_spark"
   ]
  },
  {
   "cell_type": "code",
   "execution_count": 7,
   "metadata": {},
   "outputs": [],
   "source": [
    "sqlContext, my_spark = set_spark_session()"
   ]
  },
  {
   "cell_type": "markdown",
   "metadata": {},
   "source": [
    "<font size=\"4\"><b>Lets load the training data by specifying the SCHEMA\n"
   ]
  },
  {
   "cell_type": "code",
   "execution_count": 8,
   "metadata": {},
   "outputs": [],
   "source": [
    "schema=StructType(  (\n",
    "                StructField('unique_id',StringType(),True),\n",
    "                StructField('timestamp',DateType(),True),\n",
    "                StructField('advertisement_id',StringType(),True),\n",
    "                StructField('device_os',StringType(),True),\n",
    "                StructField('software_ver',StringType(),True),\n",
    "                StructField('Game_Id',IntegerType(),True),\n",
    "                StructField('location',StringType(),True),\n",
    "                StructField('ad_start_Count',IntegerType(),True),\n",
    "                StructField('ad_view_Count',IntegerType(),True),\n",
    "                StructField('ad_click_Count',IntegerType(),True),\n",
    "                StructField('ad_install_Count',IntegerType(),True),\n",
    "                StructField('dummy1',StringType(),True),\n",
    "                StructField('dummy2',StringType(),True),\n",
    "                StructField('dummy3',StringType(),True),\n",
    "                StructField('dummy4',StringType(),True),\n",
    "                StructField('device',StringType(),True),\n",
    "                StructField('install_label',IntegerType(),True)\n",
    "                \n",
    "               )\n",
    "             \n",
    "            )"
   ]
  },
  {
   "cell_type": "code",
   "execution_count": 9,
   "metadata": {},
   "outputs": [],
   "source": [
    "df_train_spark2 = my_spark.read.format(\"csv\")\\\n",
    "                              .option(\"delimiter\", \";\")\\\n",
    "                              .option(\"header\", \"true\")\\\n",
    "                              .schema(schema)\\\n",
    "                              .load(\"training_data.csv\")"
   ]
  },
  {
   "cell_type": "code",
   "execution_count": 10,
   "metadata": {},
   "outputs": [
    {
     "name": "stdout",
     "output_type": "stream",
     "text": [
      "root\n",
      " |-- unique_id: string (nullable = true)\n",
      " |-- timestamp: date (nullable = true)\n",
      " |-- advertisement_id: string (nullable = true)\n",
      " |-- device_os: string (nullable = true)\n",
      " |-- software_ver: string (nullable = true)\n",
      " |-- Game_Id: integer (nullable = true)\n",
      " |-- location: string (nullable = true)\n",
      " |-- ad_start_Count: integer (nullable = true)\n",
      " |-- ad_view_Count: integer (nullable = true)\n",
      " |-- ad_click_Count: integer (nullable = true)\n",
      " |-- ad_install_Count: integer (nullable = true)\n",
      " |-- dummy1: string (nullable = true)\n",
      " |-- dummy2: string (nullable = true)\n",
      " |-- dummy3: string (nullable = true)\n",
      " |-- dummy4: string (nullable = true)\n",
      " |-- device: string (nullable = true)\n",
      " |-- install_label: integer (nullable = true)\n",
      "\n"
     ]
    }
   ],
   "source": [
    "df_train_spark2.printSchema()"
   ]
  },
  {
   "cell_type": "code",
   "execution_count": 33,
   "metadata": {},
   "outputs": [
    {
     "name": "stdout",
     "output_type": "stream",
     "text": [
      "+------------------------+----------+------------------------+---------+------------+-------+--------+--------------+-------------+--------------+----------------+---------+-------------+\n",
      "|unique_id               |timestamp |advertisement_id        |device_os|software_ver|Game_Id|location|ad_start_Count|ad_view_Count|ad_click_Count|ad_install_Count|device   |install_label|\n",
      "+------------------------+----------+------------------------+---------+------------+-------+--------+--------------+-------------+--------------+----------------+---------+-------------+\n",
      "|5c36658fb58fad351175f0b6|2019-01-09|59687f0d896a6b0e5ce6ea15|ios      |11.4.1      |1373094|US      |25            |24           |0             |2               |iPhone8,2|0            |\n",
      "|5c38d5ab1c16172870186b5a|2019-01-11|59687f0d896a6b0e5ce6ea15|ios      |12.1        |2739989|US      |10            |9            |2             |0               |iPhone9,1|0            |\n",
      "|5c38815de8f4e50e256e4f9c|2019-01-11|59687f0d896a6b0e5ce6ea15|ios      |12.1.2      |1373094|US      |27            |26           |0             |0               |iPhone7,1|0            |\n",
      "|5c409ace532d5806d2c6a5e6|2019-01-17|59687f0d896a6b0e5ce6ea15|ios      |12.1.2      |1217749|US      |15            |14           |2             |0               |iPhone7,2|0            |\n",
      "|5c3904b92d798c41e7f3088a|2019-01-11|59687f0d896a6b0e5ce6ea15|ios      |12.0.1      |1373094|US      |20            |18           |0             |0               |iPhone8,1|0            |\n",
      "+------------------------+----------+------------------------+---------+------------+-------+--------+--------------+-------------+--------------+----------------+---------+-------------+\n",
      "only showing top 5 rows\n",
      "\n"
     ]
    }
   ],
   "source": [
    "df_train_spark2.show(5, False)"
   ]
  },
  {
   "cell_type": "code",
   "execution_count": 11,
   "metadata": {},
   "outputs": [
    {
     "name": "stdout",
     "output_type": "stream",
     "text": [
      "+------------------------+----------+------------+--------+--------------+---------+---------------------+\n",
      "|unique_id               |timestamp |software_ver|location|ad_start_Count|device_os|device               |\n",
      "+------------------------+----------+------------+--------+--------------+---------+---------------------+\n",
      "|5c3e9dc10b2823fecd5d1990|2019-01-16|8.0.0       |US      |42            |android  |samsung SM-G955U     |\n",
      "|5c40a0f69af55309a8258d51|2019-01-17|8.0.0       |US      |27            |android  |samsung SM-N950U     |\n",
      "|5c350b7e0ff83a4f5ca78aef|2019-01-08|8.0.0       |US      |153           |android  |samsung SM-G930V     |\n",
      "|5c3505ec33e3b14ba2061820|2019-01-08|7.0         |US      |33            |android  |samsung SM-G920V     |\n",
      "|5c3cd64d0dc75c23b5fcebeb|2019-01-14|8.1.0       |GB      |273           |android  |HUAWEI CLT-L29       |\n",
      "|5c44d09ab59f8ca275b7a1ea|2019-01-20|8.0.0       |GB      |72            |android  |samsung SM-J600FN    |\n",
      "|5c341b80f2c54b4c7635fcf3|2019-01-08|8.0.0       |US      |76            |android  |samsung SM-G955U     |\n",
      "|5c375e4596053725f3aa53c2|2019-01-10|7.0         |RU      |7             |android  |HUAWEI HUAWEI CAN-L11|\n",
      "|5c349428a3b7900dbb93a997|2019-01-08|6.0.1       |RU      |5             |android  |Xiaomi Redmi 3S      |\n",
      "|5c454e07c5a284df7710f240|2019-01-21|6.0.1       |RU      |22            |android  |Xiaomi Redmi 3S      |\n",
      "+------------------------+----------+------------+--------+--------------+---------+---------------------+\n",
      "only showing top 10 rows\n",
      "\n"
     ]
    }
   ],
   "source": [
    "df_train_spark2.select('unique_id','timestamp','software_ver','location','ad_start_Count'\\\n",
    "                     ,'device_os','device').distinct().show(10, truncate=False)"
   ]
  },
  {
   "cell_type": "markdown",
   "metadata": {},
   "source": [
    "<font size=\"3\"><b>Set Spark SQL Context to run SQL Queries"
   ]
  },
  {
   "cell_type": "code",
   "execution_count": 12,
   "metadata": {},
   "outputs": [],
   "source": [
    "sqlContext=SQLContext(my_spark)"
   ]
  },
  {
   "cell_type": "markdown",
   "metadata": {},
   "source": [
    "<font size=\"3\"><b>Create a temp table to run SQL queries"
   ]
  },
  {
   "cell_type": "code",
   "execution_count": 13,
   "metadata": {},
   "outputs": [],
   "source": [
    "df_train_spark2.createOrReplaceTempView(\"df_train_table\")"
   ]
  },
  {
   "cell_type": "markdown",
   "metadata": {},
   "source": [
    "<font size=\"3\"><b>Vaow! Thats a Huge Imbalanced Data Set"
   ]
  },
  {
   "cell_type": "code",
   "execution_count": 14,
   "metadata": {},
   "outputs": [
    {
     "name": "stdout",
     "output_type": "stream",
     "text": [
      "+-------------+-------+\n",
      "|install_label|cnt    |\n",
      "+-------------+-------+\n",
      "|1            |44744  |\n",
      "|0            |3694193|\n",
      "+-------------+-------+\n",
      "\n"
     ]
    }
   ],
   "source": [
    "sqlContext.sql('''\n",
    "select install_label, count(1) as cnt from df_train_table group by 1\n",
    "''').show(10, False)"
   ]
  },
  {
   "cell_type": "code",
   "execution_count": 15,
   "metadata": {},
   "outputs": [],
   "source": [
    "stats=sqlContext.sql('''\n",
    "select install_label, count(1) as cnt from df_train_table group by 1\n",
    "''')"
   ]
  },
  {
   "cell_type": "code",
   "execution_count": 16,
   "metadata": {},
   "outputs": [
    {
     "name": "stdout",
     "output_type": "stream",
     "text": [
      "+-------------+-------+\n",
      "|install_label|    cnt|\n",
      "+-------------+-------+\n",
      "|            1|  44744|\n",
      "|            0|3694193|\n",
      "+-------------+-------+\n",
      "\n"
     ]
    }
   ],
   "source": [
    "stats.show()"
   ]
  },
  {
   "cell_type": "code",
   "execution_count": 17,
   "metadata": {},
   "outputs": [
    {
     "data": {
      "image/png": "[encoded data removed]",
      "text/plain": [
       "<Figure size 432x288 with 1 Axes>"
      ]
     },
     "metadata": {
      "needs_background": "light"
     },
     "output_type": "display_data"
    }
   ],
   "source": [
    "stats.toPandas().plot(kind='bar', title='Imbalanced-Dataset',x='install_label',y='cnt');"
   ]
  },
  {
   "cell_type": "code",
   "execution_count": 18,
   "metadata": {},
   "outputs": [
    {
     "name": "stdout",
     "output_type": "stream",
     "text": [
      "+------------------------+-------------+-----+\n",
      "|advertisement_id        |install_label|cnt  |\n",
      "+------------------------+-------------+-----+\n",
      "|5c3bfb0b36c2c6cc18710e7b|0            |41482|\n",
      "|5c385d02ee4549000d8b9ddd|0            |36345|\n",
      "|5c0f2ff2f4ee9d00225714c2|0            |32688|\n",
      "|5afbea849f23a400284f2619|0            |30184|\n",
      "|5c26db700f371292325680ec|0            |28402|\n",
      "|5bd2b810eb4bb3b817722baa|0            |26347|\n",
      "|5af41f3346d16a019f9d327d|0            |24042|\n",
      "|5c333b4d1d94abf8a325e55a|0            |23469|\n",
      "|5ba35fbb478f4102c28b1811|0            |22620|\n",
      "|5bd2ccefc9c2110ad461c1b3|0            |22267|\n",
      "+------------------------+-------------+-----+\n",
      "only showing top 10 rows\n",
      "\n"
     ]
    }
   ],
   "source": [
    "sqlContext.sql('''\n",
    "    select advertisement_id, install_label, count(1) as cnt \n",
    "    from df_train_table \n",
    "    where 1=1\n",
    "    group by 1,2 \n",
    "    order by 3 desc\n",
    "''').show(10, False)"
   ]
  },
  {
   "cell_type": "code",
   "execution_count": 19,
   "metadata": {},
   "outputs": [
    {
     "name": "stdout",
     "output_type": "stream",
     "text": [
      "+------------------------+\n",
      "|count(DISTINCT location)|\n",
      "+------------------------+\n",
      "|221                     |\n",
      "+------------------------+\n",
      "\n"
     ]
    }
   ],
   "source": [
    "sqlContext.sql('''\n",
    "    select count( distinct location)\n",
    "    from df_train_table \n",
    "   ''').show(100, False)"
   ]
  },
  {
   "cell_type": "code",
   "execution_count": 20,
   "metadata": {},
   "outputs": [
    {
     "name": "stdout",
     "output_type": "stream",
     "text": [
      "+--------+-------------+------+\n",
      "|location|install_label|cnt   |\n",
      "+--------+-------------+------+\n",
      "|US      |0            |571342|\n",
      "|RU      |0            |284031|\n",
      "|IN      |0            |263013|\n",
      "|BR      |0            |197981|\n",
      "|DE      |0            |146836|\n",
      "|GB      |0            |125766|\n",
      "|FR      |0            |123234|\n",
      "|TR      |0            |121841|\n",
      "|CN      |0            |116602|\n",
      "|ID      |0            |114815|\n",
      "+--------+-------------+------+\n",
      "only showing top 10 rows\n",
      "\n"
     ]
    }
   ],
   "source": [
    "sqlContext.sql('''\n",
    "    select location, install_label, count(1) as cnt \n",
    "    from df_train_table \n",
    "    where 1=1\n",
    "    group by 1,2 \n",
    "    order by 3 desc\n",
    "''').show(10, False)"
   ]
  },
  {
   "cell_type": "code",
   "execution_count": 21,
   "metadata": {},
   "outputs": [
    {
     "name": "stdout",
     "output_type": "stream",
     "text": [
      "+---------+-------------+-------+\n",
      "|device_os|install_label|cnt    |\n",
      "+---------+-------------+-------+\n",
      "|android  |0            |2696965|\n",
      "|ios      |0            |997228 |\n",
      "|android  |1            |32079  |\n",
      "|ios      |1            |12665  |\n",
      "+---------+-------------+-------+\n",
      "\n"
     ]
    }
   ],
   "source": [
    "sqlContext.sql('''\n",
    "    select device_os, install_label, count(1) as cnt \n",
    "    from df_train_table \n",
    "    where device_os is not null\n",
    "    group by 1,2 \n",
    "    order by 3 desc\n",
    "''').show(100, False)"
   ]
  },
  {
   "cell_type": "code",
   "execution_count": 22,
   "metadata": {},
   "outputs": [],
   "source": [
    "columns_to_be_dropped=['dummy1','dummy2','dummy3','dummy4']\n",
    "df_train_spark2=df_train_spark2.drop(*columns_to_be_dropped)\n"
   ]
  },
  {
   "cell_type": "code",
   "execution_count": 23,
   "metadata": {},
   "outputs": [
    {
     "name": "stdout",
     "output_type": "stream",
     "text": [
      "root\n",
      " |-- unique_id: string (nullable = true)\n",
      " |-- timestamp: date (nullable = true)\n",
      " |-- advertisement_id: string (nullable = true)\n",
      " |-- device_os: string (nullable = true)\n",
      " |-- software_ver: string (nullable = true)\n",
      " |-- Game_Id: integer (nullable = true)\n",
      " |-- location: string (nullable = true)\n",
      " |-- ad_start_Count: integer (nullable = true)\n",
      " |-- ad_view_Count: integer (nullable = true)\n",
      " |-- ad_click_Count: integer (nullable = true)\n",
      " |-- ad_install_Count: integer (nullable = true)\n",
      " |-- device: string (nullable = true)\n",
      " |-- install_label: integer (nullable = true)\n",
      "\n"
     ]
    }
   ],
   "source": [
    "df_train_spark2.printSchema()"
   ]
  },
  {
   "cell_type": "code",
   "execution_count": 24,
   "metadata": {},
   "outputs": [],
   "source": [
    "from pyspark.ml import Pipeline\n",
    "from pyspark.ml.classification import RandomForestClassifier\n",
    "from pyspark.ml.feature import IndexToString, StringIndexer, VectorIndexer\n",
    "from pyspark.ml.evaluation import MulticlassClassificationEvaluator\n",
    "\n",
    "from pyspark.ml.linalg import Vectors\n",
    "\n",
    "from pyspark.ml.feature import StringIndexer\n",
    "from pyspark.ml.feature import OneHotEncoder \n",
    "from pyspark.ml.feature import VectorAssembler\n",
    "from pyspark.ml.feature import StandardScaler\n",
    "from pyspark.ml.feature import MinMaxScaler\n",
    "from pyspark.ml.feature import OneHotEncoderEstimator"
   ]
  },
  {
   "cell_type": "code",
   "execution_count": 25,
   "metadata": {},
   "outputs": [],
   "source": [
    "#There are better way to perform oversampling (e.g. SMOTE Synthetic Minority Over-sampling ). \n",
    "#However, I am using under-sampling to keep the solution simple\n",
    "\n",
    "df_binary_zero = df_train_spark2[df_train_spark2['install_label'] == 0]\n",
    "df_binary_one = df_train_spark2[df_train_spark2['install_label'] == 1]\n",
    "\n",
    "df_binary_zero_under = df_binary_zero.rdd.takeSample(withReplacement=False,\n",
    "                                                     num=df_binary_one.count()\n",
    "                                                     )\n",
    "\n",
    "df_binary_zero_under1 = my_spark.createDataFrame(df_binary_zero_under)\n",
    "\n",
    "spark_df = df_binary_one.union(df_binary_zero_under1)"
   ]
  },
  {
   "cell_type": "code",
   "execution_count": 26,
   "metadata": {},
   "outputs": [
    {
     "name": "stdout",
     "output_type": "stream",
     "text": [
      "+-------------+-----+\n",
      "|install_label|count|\n",
      "+-------------+-----+\n",
      "|            0|44744|\n",
      "|            1|44744|\n",
      "+-------------+-----+\n",
      "\n"
     ]
    }
   ],
   "source": [
    "spark_df.groupBy('install_label').count().show()"
   ]
  },
  {
   "cell_type": "code",
   "execution_count": 27,
   "metadata": {},
   "outputs": [
    {
     "name": "stdout",
     "output_type": "stream",
     "text": [
      "root\n",
      " |-- unique_id: string (nullable = true)\n",
      " |-- timestamp: date (nullable = true)\n",
      " |-- advertisement_id: string (nullable = true)\n",
      " |-- device_os: string (nullable = true)\n",
      " |-- software_ver: string (nullable = true)\n",
      " |-- Game_Id: long (nullable = true)\n",
      " |-- location: string (nullable = true)\n",
      " |-- ad_start_Count: long (nullable = true)\n",
      " |-- ad_view_Count: long (nullable = true)\n",
      " |-- ad_click_Count: long (nullable = true)\n",
      " |-- ad_install_Count: long (nullable = true)\n",
      " |-- device: string (nullable = true)\n",
      " |-- install_label: long (nullable = true)\n",
      "\n"
     ]
    }
   ],
   "source": [
    "spark_df.printSchema()"
   ]
  },
  {
   "cell_type": "code",
   "execution_count": 28,
   "metadata": {},
   "outputs": [
    {
     "data": {
      "text/plain": [
       "[('unique_id', 'string'),\n",
       " ('timestamp', 'date'),\n",
       " ('advertisement_id', 'string'),\n",
       " ('device_os', 'string'),\n",
       " ('software_ver', 'string'),\n",
       " ('Game_Id', 'bigint'),\n",
       " ('location', 'string'),\n",
       " ('ad_start_Count', 'bigint'),\n",
       " ('ad_view_Count', 'bigint'),\n",
       " ('ad_click_Count', 'bigint'),\n",
       " ('ad_install_Count', 'bigint'),\n",
       " ('device', 'string'),\n",
       " ('install_label', 'bigint')]"
      ]
     },
     "execution_count": 28,
     "metadata": {},
     "output_type": "execute_result"
    }
   ],
   "source": [
    "spark_df.dtypes"
   ]
  },
  {
   "cell_type": "markdown",
   "metadata": {},
   "source": [
    "<font size=\"3\"><b>Verify Categorical and Numeric Features before Feature Engineering"
   ]
  },
  {
   "cell_type": "code",
   "execution_count": 29,
   "metadata": {},
   "outputs": [
    {
     "name": "stdout",
     "output_type": "stream",
     "text": [
      "6  categorical features\n",
      "5  numerical features\n",
      "1  date features\n"
     ]
    }
   ],
   "source": [
    "cat_cols = [i[0] for i in spark_df.dtypes if i[1].startswith('string')] \n",
    "print(str(len(cat_cols)) + '  categorical features')\n",
    "\n",
    "num_cols = [i[0] for i in spark_df.dtypes if i[1].startswith('int') | i[1].startswith('bigint')][1:]\n",
    "print(str(len(num_cols)) + '  numerical features')\n",
    "\n",
    "time_cols = [i[0] for i in spark_df.dtypes if i[1].startswith('date')]\n",
    "print(str(len(time_cols)) + '  date features')"
   ]
  },
  {
   "cell_type": "code",
   "execution_count": 30,
   "metadata": {},
   "outputs": [],
   "source": [
    "spark_df.createOrReplaceTempView(\"spark_df_table\")"
   ]
  },
  {
   "cell_type": "code",
   "execution_count": 31,
   "metadata": {},
   "outputs": [],
   "source": [
    "spark_df= sqlContext.sql('''\n",
    "select tbl.*, \n",
    "CAST (tbl.timestamp as String) timestamp_s\n",
    "from spark_df_table tbl\n",
    "''')"
   ]
  },
  {
   "cell_type": "code",
   "execution_count": 34,
   "metadata": {},
   "outputs": [
    {
     "name": "stdout",
     "output_type": "stream",
     "text": [
      "root\n",
      " |-- unique_id: string (nullable = true)\n",
      " |-- timestamp: date (nullable = true)\n",
      " |-- advertisement_id: string (nullable = true)\n",
      " |-- device_os: string (nullable = true)\n",
      " |-- software_ver: string (nullable = true)\n",
      " |-- Game_Id: long (nullable = true)\n",
      " |-- location: string (nullable = true)\n",
      " |-- ad_start_Count: long (nullable = true)\n",
      " |-- ad_view_Count: long (nullable = true)\n",
      " |-- ad_click_Count: long (nullable = true)\n",
      " |-- ad_install_Count: long (nullable = true)\n",
      " |-- device: string (nullable = true)\n",
      " |-- install_label: long (nullable = true)\n",
      " |-- timestamp_s: string (nullable = true)\n",
      "\n"
     ]
    }
   ],
   "source": [
    "spark_df.printSchema()"
   ]
  },
  {
   "cell_type": "markdown",
   "metadata": {},
   "source": [
    "<font size=\"5\"><b>Feature Engineering\n"
   ]
  },
  {
   "cell_type": "markdown",
   "metadata": {},
   "source": [
    "<font size=\"5\"><b> SPARK PIPELINE</font>\n",
    "\n",
    "<font size=\"3\">\n",
    "<p><b><u>StringIndexer</u></b> - It encodes a string column of labels to a column of label indices<p>\n",
    "<p><b><u>OneHotEncoder</u></b> - It maps a categorical feature, represented as a label index, to a binary vector with at most a single one-value indicating the presence of a specific feature value from among the set of all feature values. <p>\n",
    "<p><b><u>VectorAssembler</u></b> - It is a transformer that combines a given list of columns into a single vector column. It is useful for combining raw features and features generated by different feature transformers into a single feature vector, in order to train ML models like logistic regression and decision trees\n",
    "<p><b><u>StandardScaler</u></b>- It transforms a dataset of Vector rows, normalizing each feature to have unit standard deviation and/or zero mean. It takes parameters:\n",
    "    "
   ]
  },
  {
   "cell_type": "code",
   "execution_count": 40,
   "metadata": {},
   "outputs": [],
   "source": [
    "stringIndexer1 = StringIndexer(handleInvalid='keep', inputCol='advertisement_id', outputCol=\"advertisement_id_i\") \n",
    "stringIndexer2 = StringIndexer(handleInvalid='keep', inputCol='device_os',   outputCol=\"device_os_i\") \n",
    "stringIndexer3 = StringIndexer(handleInvalid='keep', inputCol='software_ver', outputCol=\"software_ver_i\") \n",
    "stringIndexer4 = StringIndexer(handleInvalid='keep', inputCol='location', outputCol=\"location_i\") \n",
    "stringIndexer5 = StringIndexer(handleInvalid='keep', inputCol='device', outputCol=\"device_i\") \n",
    "stringIndexer6 = StringIndexer(handleInvalid='keep', inputCol='timestamp_s', outputCol=\"timestamp_i\") \n",
    "\n",
    "oneHotEncoder = OneHotEncoderEstimator(inputCols=\n",
    "                                            [\"advertisement_id_i\",\n",
    "                                            \"device_os_i\",\n",
    "                                            \"software_ver_i\",\n",
    "                                            \"location_i\",\n",
    "                                            \"device_i\",\n",
    "                                            \"timestamp_i\",\n",
    "                                            ],\n",
    "                                        outputCols=[\"advertisement_id_o\",\n",
    "                                            \"device_os_o\",\n",
    "                                            \"software_ver_o\",\n",
    "                                            \"location_o\",\n",
    "                                            \"device_o\",\n",
    "                                            \"timestamp_o\",\n",
    "                                            ]\n",
    "                                 )\n",
    "\n",
    "unscaled_features =[\"advertisement_id_o\",\"device_os_o\",\"software_ver_o\",\"location_o\",\"device_o\",\"timestamp_o\"\n",
    "                   ,\"Game_Id\",\"ad_start_Count\",\"ad_view_Count\",\"ad_click_Count\",\"install_label\"]\n",
    "\n",
    "\n",
    "vectorAssembler = VectorAssembler(inputCols=unscaled_features, outputCol=\"vector_features\")\n",
    "\n",
    "\n",
    "standardScaler = StandardScaler(inputCol=\"vector_features\", outputCol=\"scaled_features\",withStd=True, withMean=False)\n",
    "#standardScaler = MinMaxScaler(inputCol=\"unscaled_features\", outputCol=\"scaled_features\")\n",
    "\n",
    "\n",
    "\n",
    "\n",
    "stages = [stringIndexer1,\n",
    "         stringIndexer2, \n",
    "         stringIndexer3, \n",
    "         stringIndexer4, \n",
    "         stringIndexer5, \n",
    "         stringIndexer6, \n",
    "         oneHotEncoder,\n",
    "         vectorAssembler,\n",
    "         standardScaler\n",
    "         ]\n",
    "\n",
    "pipeline = Pipeline(stages=stages)\n",
    "model = pipeline.fit(spark_df)\n",
    "pipeline_df = model.transform(spark_df)\n",
    "\n"
   ]
  },
  {
   "cell_type": "code",
   "execution_count": 41,
   "metadata": {},
   "outputs": [],
   "source": [
    "pipeline_df = pipeline_df.withColumnRenamed(\"install_label\", \"label\")"
   ]
  },
  {
   "cell_type": "code",
   "execution_count": 42,
   "metadata": {},
   "outputs": [
    {
     "data": {
      "text/plain": [
       "[('unique_id', 'string'),\n",
       " ('timestamp', 'date'),\n",
       " ('advertisement_id', 'string'),\n",
       " ('device_os', 'string'),\n",
       " ('software_ver', 'string'),\n",
       " ('Game_Id', 'bigint'),\n",
       " ('location', 'string'),\n",
       " ('ad_start_Count', 'bigint'),\n",
       " ('ad_view_Count', 'bigint'),\n",
       " ('ad_click_Count', 'bigint'),\n",
       " ('ad_install_Count', 'bigint'),\n",
       " ('device', 'string'),\n",
       " ('label', 'bigint'),\n",
       " ('timestamp_s', 'string'),\n",
       " ('advertisement_id_i', 'double'),\n",
       " ('device_os_i', 'double'),\n",
       " ('software_ver_i', 'double'),\n",
       " ('location_i', 'double'),\n",
       " ('device_i', 'double'),\n",
       " ('timestamp_i', 'double'),\n",
       " ('timestamp_o', 'vector'),\n",
       " ('software_ver_o', 'vector'),\n",
       " ('advertisement_id_o', 'vector'),\n",
       " ('device_os_o', 'vector'),\n",
       " ('location_o', 'vector'),\n",
       " ('device_o', 'vector'),\n",
       " ('vector_features', 'vector'),\n",
       " ('scaled_features', 'vector')]"
      ]
     },
     "execution_count": 42,
     "metadata": {},
     "output_type": "execute_result"
    }
   ],
   "source": [
    "pipeline_df.dtypes"
   ]
  },
  {
   "cell_type": "markdown",
   "metadata": {},
   "source": [
    "<font size=\"3\"><b> Train Test Split"
   ]
  },
  {
   "cell_type": "code",
   "execution_count": 43,
   "metadata": {},
   "outputs": [],
   "source": [
    "(trainingData, testData) = pipeline_df.randomSplit([0.7, 0.3])"
   ]
  },
  {
   "cell_type": "code",
   "execution_count": 44,
   "metadata": {},
   "outputs": [
    {
     "name": "stdout",
     "output_type": "stream",
     "text": [
      "+-----+-----+\n",
      "|label|count|\n",
      "+-----+-----+\n",
      "|    0|31294|\n",
      "|    1|31347|\n",
      "+-----+-----+\n",
      "\n"
     ]
    }
   ],
   "source": [
    "trainingData.groupBy('label').count().show()"
   ]
  },
  {
   "cell_type": "code",
   "execution_count": 45,
   "metadata": {},
   "outputs": [
    {
     "name": "stdout",
     "output_type": "stream",
     "text": [
      "+-----+-----+\n",
      "|label|count|\n",
      "+-----+-----+\n",
      "|    0|13450|\n",
      "|    1|13397|\n",
      "+-----+-----+\n",
      "\n"
     ]
    }
   ],
   "source": [
    "testData.groupBy('label').count().show()"
   ]
  },
  {
   "cell_type": "markdown",
   "metadata": {},
   "source": [
    "<font size=\"4\"><b> Train a Spark ML RandomForest model</font>"
   ]
  },
  {
   "cell_type": "code",
   "execution_count": 46,
   "metadata": {},
   "outputs": [],
   "source": [
    "rf = RandomForestClassifier(labelCol=\"label\", featuresCol=\"scaled_features\")"
   ]
  },
  {
   "cell_type": "markdown",
   "metadata": {},
   "source": [
    "<font size=\"4\"><b> Hyper-Parameter Tuning &  Cross Validation\n"
   ]
  },
  {
   "cell_type": "code",
   "execution_count": 47,
   "metadata": {},
   "outputs": [],
   "source": [
    "from pyspark.ml.tuning import CrossValidator, ParamGridBuilder \n",
    "from sklearn.metrics import roc_curve, auc\n",
    "from pyspark.ml.evaluation import BinaryClassificationEvaluator\n",
    "\n",
    "# Hyper-Parameter Tuning\n",
    "paramGrid_rf = ParamGridBuilder() \\\n",
    "    .addGrid(rf.numTrees, [40, 60, 80, 100]) \\\n",
    "    .build()\n",
    "\n",
    "# Cross Validation\n",
    "crossval_rf = CrossValidator(estimator=rf,\n",
    "                             estimatorParamMaps=paramGrid_rf,\n",
    "                             evaluator=BinaryClassificationEvaluator(),\n",
    "                             numFolds=3) \n"
   ]
  },
  {
   "cell_type": "markdown",
   "metadata": {},
   "source": [
    "<font size=\"4\"><b>Fit model to data train"
   ]
  },
  {
   "cell_type": "code",
   "execution_count": 48,
   "metadata": {},
   "outputs": [],
   "source": [
    "model=crossval_rf.fit(trainingData)"
   ]
  },
  {
   "cell_type": "markdown",
   "metadata": {},
   "source": [
    "<font size=\"4\"><b>Make predictions."
   ]
  },
  {
   "cell_type": "code",
   "execution_count": 51,
   "metadata": {},
   "outputs": [],
   "source": [
    "predictions = model.transform(testData)"
   ]
  },
  {
   "cell_type": "code",
   "execution_count": 52,
   "metadata": {},
   "outputs": [
    {
     "data": {
      "text/plain": [
       "<bound method DataFrame.summary of DataFrame[unique_id: string, timestamp: date, advertisement_id: string, device_os: string, software_ver: string, Game_Id: bigint, location: string, ad_start_Count: bigint, ad_view_Count: bigint, ad_click_Count: bigint, ad_install_Count: bigint, device: string, label: bigint, timestamp_s: string, advertisement_id_i: double, device_os_i: double, software_ver_i: double, location_i: double, device_i: double, timestamp_i: double, timestamp_o: vector, software_ver_o: vector, advertisement_id_o: vector, device_os_o: vector, location_o: vector, device_o: vector, vector_features: vector, scaled_features: vector, rawPrediction: vector, probability: vector, prediction: double]>"
      ]
     },
     "execution_count": 52,
     "metadata": {},
     "output_type": "execute_result"
    }
   ],
   "source": [
    "predictions.summary"
   ]
  },
  {
   "cell_type": "code",
   "execution_count": 54,
   "metadata": {},
   "outputs": [
    {
     "name": "stdout",
     "output_type": "stream",
     "text": [
      "+------------------------+----------------------------------------+----------+-----+\n",
      "|unique_id               |probability                             |prediction|label|\n",
      "+------------------------+----------------------------------------+----------+-----+\n",
      "|5c33eba781a8c737c2ec42de|[0.49086168693113674,0.5091383130688633]|1.0       |1    |\n",
      "|5c33ebf3c4e4943aa8d34284|[0.49091789641817646,0.5090821035818236]|1.0       |1    |\n",
      "|5c33edf170df593bb1449cdc|[0.47250782851328116,0.5274921714867189]|1.0       |1    |\n",
      "|5c33efc439eec03b7c79a024|[0.48925811886795517,0.5107418811320449]|1.0       |1    |\n",
      "|5c33f14221dfc23be5d89ddb|[0.46993750326561995,0.5300624967343801]|1.0       |1    |\n",
      "|5c33f16784ee253d24c108a6|[0.5034721368858157,0.49652786311418423]|0.0       |1    |\n",
      "|5c33f2c87cd9e33d59178db2|[0.4864659990220912,0.5135340009779088] |1.0       |1    |\n",
      "|5c33f985ab1b4d3f367114d7|[0.48925811886795517,0.5107418811320449]|1.0       |1    |\n",
      "|5c33fbf3001c943fd5fa87da|[0.49227419772595127,0.5077258022740487]|1.0       |1    |\n",
      "|5c3401b382b0ca43c413a8b5|[0.4915733341965586,0.5084266658034414] |1.0       |1    |\n",
      "|5c3402fe1b46b642bb7915f2|[0.47148950332940637,0.5285104966705937]|1.0       |1    |\n",
      "|5c3403bf37e56442bb7d2153|[0.4715972808158412,0.5284027191841589] |1.0       |1    |\n",
      "|5c3405992805dd4537973df3|[0.5029289295747852,0.4970710704252149] |0.0       |1    |\n",
      "|5c34119e03891d48f1621f3c|[0.4885507588088194,0.5114492411911806] |1.0       |1    |\n",
      "|5c34160a1686004b389c8898|[0.49086168693113674,0.5091383130688633]|1.0       |1    |\n",
      "|5c342207cf05034ebd56ad9e|[0.4913428786546833,0.5086571213453167] |1.0       |1    |\n",
      "|5c342676db3e6052424d7391|[0.47230892808126307,0.527691071918737] |1.0       |1    |\n",
      "|5c34270ea875c952771660db|[0.4686930962772564,0.5313069037227437] |1.0       |1    |\n",
      "|5c342a84e1d701534bc34fab|[0.48509983518928357,0.5149001648107165]|1.0       |1    |\n",
      "|5c34324025c6e057a4d384bc|[0.48913894456851514,0.5108610554314849]|1.0       |1    |\n",
      "+------------------------+----------------------------------------+----------+-----+\n",
      "only showing top 20 rows\n",
      "\n"
     ]
    }
   ],
   "source": [
    "# Select example rows to display.\n",
    "predictions.select(\"unique_id\",\"probability\",\"prediction\",\"label\").show(20, False)"
   ]
  },
  {
   "cell_type": "markdown",
   "metadata": {},
   "source": [
    "<font size=\"3\"><b> Model Performance Measures</b>\n",
    "\n",
    "<p>Accuracy - Model performance</p>\n",
    "\n",
    "\n",
    "<u>Confusion Matrix</u>:: a table showing correct predictions and types of incorrect predictions.\n",
    "\n",
    "<u>Precision</u>:: the number of true positives divided by all positive predictions. Precision is also called Positive Predictive Value. It is a measure of a classifier’s exactness. Low precision indicates a high number of false positives.\n",
    "\n",
    "<u>Recall</u>:: the number of true positives divided by the number of positive values in the test data. Recall is also called Sensitivity or the True Positive Rate. It is a measure of a classifier’s completeness. Low recall indicates a high number of false negatives.\n",
    "\n",
    "<u>F1</u>:: Score: the weighted average of precision and recall."
   ]
  },
  {
   "cell_type": "code",
   "execution_count": 55,
   "metadata": {},
   "outputs": [
    {
     "name": "stdout",
     "output_type": "stream",
     "text": [
      "Performance Measure\n",
      "AUC = 0.92\n"
     ]
    }
   ],
   "source": [
    "#Evaluate model by calculating accuracy and area under curve (AUC)\n",
    "rf_hyper_eval = BinaryClassificationEvaluator(rawPredictionCol=\"probability\", labelCol=\"label\")\n",
    "rf_hyper_AUC  = rf_hyper_eval.evaluate(predictions)\n",
    "#rf_hyper_ACC  = rf_hyper_eval.evaluate(predictions, {rf_hyper_eval.metricName:\"accuracy\"})\n",
    "\n",
    "print(\"Performance Measure\")\n",
    "#print(\"Accuracy = %0.2f\" % rf_hyper_ACC)\n",
    "print(\"AUC = %.2f\" % rf_hyper_AUC)"
   ]
  },
  {
   "cell_type": "code",
   "execution_count": 56,
   "metadata": {},
   "outputs": [
    {
     "data": {
      "text/html": [
       "<div>\n",
       "<style scoped>\n",
       "    .dataframe tbody tr th:only-of-type {\n",
       "        vertical-align: middle;\n",
       "    }\n",
       "\n",
       "    .dataframe tbody tr th {\n",
       "        vertical-align: top;\n",
       "    }\n",
       "\n",
       "    .dataframe thead th {\n",
       "        text-align: right;\n",
       "    }\n",
       "</style>\n",
       "<table border=\"1\" class=\"dataframe\">\n",
       "  <thead>\n",
       "    <tr style=\"text-align: right;\">\n",
       "      <th></th>\n",
       "      <th>prediction_label</th>\n",
       "      <th>0</th>\n",
       "      <th>1</th>\n",
       "    </tr>\n",
       "  </thead>\n",
       "  <tbody>\n",
       "    <tr>\n",
       "      <th>0</th>\n",
       "      <td>1.0</td>\n",
       "      <td>1551</td>\n",
       "      <td>11452</td>\n",
       "    </tr>\n",
       "    <tr>\n",
       "      <th>1</th>\n",
       "      <td>0.0</td>\n",
       "      <td>11899</td>\n",
       "      <td>1945</td>\n",
       "    </tr>\n",
       "  </tbody>\n",
       "</table>\n",
       "</div>"
      ],
      "text/plain": [
       "  prediction_label      0      1\n",
       "0              1.0   1551  11452\n",
       "1              0.0  11899   1945"
      ]
     },
     "execution_count": 56,
     "metadata": {},
     "output_type": "execute_result"
    }
   ],
   "source": [
    "cm_rf_result_hyper = predictions.crosstab(\"prediction\", \"label\")\n",
    "cm_rf_result_hyper = cm_rf_result_hyper.toPandas()\n",
    "cm_rf_result_hyper\n"
   ]
  },
  {
   "cell_type": "code",
   "execution_count": 57,
   "metadata": {},
   "outputs": [
    {
     "name": "stdout",
     "output_type": "stream",
     "text": [
      "+----------+-----+\n",
      "|prediction|label|\n",
      "+----------+-----+\n",
      "|       1.0|    1|\n",
      "|       0.0|    1|\n",
      "|       1.0|    0|\n",
      "|       0.0|    0|\n",
      "+----------+-----+\n",
      "\n"
     ]
    }
   ],
   "source": [
    "predictions.select('prediction','label').distinct().show()"
   ]
  },
  {
   "cell_type": "code",
   "execution_count": 58,
   "metadata": {},
   "outputs": [
    {
     "name": "stdout",
     "output_type": "stream",
     "text": [
      "Accuracy = 0.87\n",
      "Sensitivity/Recall = 0.85\n",
      "Specificity = 0.88\n",
      "Precision = 0.88\n"
     ]
    }
   ],
   "source": [
    "#calculate accuracy, sensitivity, specificity and precision\n",
    "TP = cm_rf_result_hyper[\"1\"][0]\n",
    "FP = cm_rf_result_hyper[\"0\"][0]\n",
    "TN = cm_rf_result_hyper[\"0\"][1]\n",
    "FN = cm_rf_result_hyper[\"1\"][1]\n",
    "\n",
    "\n",
    "Accuracy = (TP+TN)/(TP+FP+TN+FN)\n",
    "Sensitivity = TP/(TP+FN)\n",
    "Specificity = TN/(TN+FP)\n",
    "Precision = TP/(TP+FP)\n",
    "\n",
    "print (\"Accuracy = %0.2f\" %Accuracy )\n",
    "print (\"Sensitivity/Recall = %0.2f\" %Sensitivity )\n",
    "print (\"Specificity = %0.2f\" %Specificity )\n",
    "print (\"Precision = %0.2f\" %Precision )"
   ]
  },
  {
   "cell_type": "code",
   "execution_count": 59,
   "metadata": {},
   "outputs": [
    {
     "name": "stdout",
     "output_type": "stream",
     "text": [
      "Root Mean Squared Error (RMSE) on test data = 0.360859\n"
     ]
    }
   ],
   "source": [
    "from pyspark.ml.evaluation import RegressionEvaluator\n",
    "evaluator = RegressionEvaluator(labelCol=\"label\", predictionCol=\"prediction\", metricName=\"rmse\")\n",
    "\n",
    "rmse = evaluator.evaluate(predictions)\n",
    "print(\"Root Mean Squared Error (RMSE) on test data = %g\" % rmse)"
   ]
  },
  {
   "cell_type": "code",
   "execution_count": 60,
   "metadata": {},
   "outputs": [],
   "source": [
    "sqlContext.clearCache()"
   ]
  },
  {
   "cell_type": "markdown",
   "metadata": {},
   "source": [
    "<b><font size=\"5\"><p>THANK YOU </p></b>"
   ]
  }
 ],
 "metadata": {
  "kernelspec": {
   "display_name": "Python 3",
   "language": "python",
   "name": "python3"
  },
  "language_info": {
   "codemirror_mode": {
    "name": "ipython",
    "version": 3
   },
   "file_extension": ".py",
   "mimetype": "text/x-python",
   "name": "python",
   "nbconvert_exporter": "python",
   "pygments_lexer": "ipython3",
   "version": "3.7.3"
  }
 },
 "nbformat": 4,
 "nbformat_minor": 2
}
